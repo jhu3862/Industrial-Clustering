{
 "cells": [
  {
   "cell_type": "code",
   "execution_count": 1,
   "id": "ac841501",
   "metadata": {},
   "outputs": [
    {
     "ename": "FileNotFoundError",
     "evalue": "[Errno 2] No such file or directory: '/Users/jihu/Desktop/RA'",
     "output_type": "error",
     "traceback": [
      "\u001b[0;31m---------------------------------------------------------------------------\u001b[0m",
      "\u001b[0;31mFileNotFoundError\u001b[0m                         Traceback (most recent call last)",
      "\u001b[0;32m/var/folders/v9/9zrzc5895xscsh7rjzbx0k0m0000gn/T/ipykernel_14961/2798554828.py\u001b[0m in \u001b[0;36m<module>\u001b[0;34m\u001b[0m\n\u001b[1;32m      9\u001b[0m \u001b[0;34m\u001b[0m\u001b[0m\n\u001b[1;32m     10\u001b[0m \u001b[0mos\u001b[0m\u001b[0;34m.\u001b[0m\u001b[0mgetcwd\u001b[0m\u001b[0;34m(\u001b[0m\u001b[0;34m)\u001b[0m\u001b[0;34m\u001b[0m\u001b[0;34m\u001b[0m\u001b[0m\n\u001b[0;32m---> 11\u001b[0;31m \u001b[0mos\u001b[0m\u001b[0;34m.\u001b[0m\u001b[0mchdir\u001b[0m\u001b[0;34m(\u001b[0m\u001b[0;34m'/Users/jihu/Desktop/RA'\u001b[0m\u001b[0;34m)\u001b[0m\u001b[0;34m\u001b[0m\u001b[0;34m\u001b[0m\u001b[0m\n\u001b[0m\u001b[1;32m     12\u001b[0m \u001b[0;34m\u001b[0m\u001b[0m\n\u001b[1;32m     13\u001b[0m \u001b[0mdata\u001b[0m \u001b[0;34m=\u001b[0m \u001b[0mpyreadr\u001b[0m\u001b[0;34m.\u001b[0m\u001b[0mread_r\u001b[0m\u001b[0;34m(\u001b[0m\u001b[0;34m'gq_with_coord_2_industries.rds'\u001b[0m\u001b[0;34m)\u001b[0m\u001b[0;34m\u001b[0m\u001b[0;34m\u001b[0m\u001b[0m\n",
      "\u001b[0;31mFileNotFoundError\u001b[0m: [Errno 2] No such file or directory: '/Users/jihu/Desktop/RA'"
     ]
    }
   ],
   "source": [
    "# import libraries and read .rds as a pandas dataframe\n",
    "\n",
    "import os\n",
    "import pandas as pd\n",
    "import pyreadr\n",
    "import numpy as np\n",
    "import math\n",
    "from operator import itemgetter\n",
    "\n",
    "os.getcwd()\n",
    "os.chdir('/Users/jihu/Desktop/RA')\n",
    "\n",
    "data = pyreadr.read_r('gq_with_coord_2_industries.rds')\n",
    "df = data[None].dropna()\n",
    "df"
   ]
  },
  {
   "cell_type": "code",
   "execution_count": null,
   "id": "48eccb2e",
   "metadata": {},
   "outputs": [],
   "source": [
    "# visualize dataframe\n",
    "\n",
    "print(df.head())\n",
    "print(df.shape)"
   ]
  },
  {
   "cell_type": "code",
   "execution_count": null,
   "id": "ede00b52",
   "metadata": {},
   "outputs": [],
   "source": [
    "# find n1 and n2 and the number of unique years, provinces, cities, and counties\n",
    "n1 = df['industry_code'].value_counts()[17]\n",
    "n2 = df['industry_code'].value_counts()[28]\n",
    "\n",
    "n_yr = len(df['year'].unique())\n",
    "n_pc = len(df['province_code'].unique())\n",
    "n_cic = len(df['city_code'].unique())\n",
    "n_coc = len(df['county_code'].unique())\n",
    "\n",
    "print(n1,n2)\n",
    "print(n_yr, n_pc, n_cic, n_coc)"
   ]
  },
  {
   "cell_type": "code",
   "execution_count": null,
   "id": "598b1fac",
   "metadata": {},
   "outputs": [],
   "source": [
    "# divide the dataframe into two according to industry types\n",
    "\n",
    "df17 = df[df['industry_code'] == 17][['year','province_code','longitude','latitude']]\n",
    "df28 = df[df['industry_code'] == 28][['year','province_code','longitude','latitude']]"
   ]
  },
  {
   "cell_type": "code",
   "execution_count": null,
   "id": "b6322414",
   "metadata": {},
   "outputs": [],
   "source": [
    "# sort df17 by year, then by province code\n",
    "\n",
    "grpd_yr_pr = sorted(df17.values.tolist(), key = itemgetter(0,1))"
   ]
  },
  {
   "cell_type": "code",
   "execution_count": null,
   "id": "68ec0eb1",
   "metadata": {},
   "outputs": [],
   "source": [
    "yr_pr = list(map(itemgetter(0,1),grpd_yr_pr))\n",
    "long_lat = list(map(itemgetter(2,3),grpd_yr_pr))\n",
    "x=[]\n",
    "for d in yr_pr:\n",
    "    if d not in x:\n",
    "        x.append(d)\n",
    "print(x)"
   ]
  },
  {
   "cell_type": "code",
   "execution_count": null,
   "id": "d2946c15",
   "metadata": {},
   "outputs": [],
   "source": [
    "# finding average distance within for the first firm in textile industry (17)\n",
    "# change the loop range to calculate for every firm\n",
    "avgdistancewithin_t = []\n",
    "distance = 0\n",
    "\n",
    "for i in range(len(yr_pr)):\n",
    "    for j in range(len(x)):\n",
    "        if yr_pr[i] == x[j]: \n",
    "            distance += 1/(n1-1)*math.dist(long_lat[i],long_lat[j])\n",
    "        else:\n",
    "            distance = 0\n",
    "        avgdistancewithin_t += [distance]\n",
    "        distance = 0 \n",
    "    \n",
    "print(avgdistancewithin_t)\n",
    "print(len(avgdistancewithin_t))\n",
    "    \n",
    "print(pd.Series(avgdistancewithin_t))"
   ]
  }
 ],
 "metadata": {
  "kernelspec": {
   "display_name": "Python 3 (ipykernel)",
   "language": "python",
   "name": "python3"
  },
  "language_info": {
   "codemirror_mode": {
    "name": "ipython",
    "version": 3
   },
   "file_extension": ".py",
   "mimetype": "text/x-python",
   "name": "python",
   "nbconvert_exporter": "python",
   "pygments_lexer": "ipython3",
   "version": "3.9.13"
  }
 },
 "nbformat": 4,
 "nbformat_minor": 5
}
